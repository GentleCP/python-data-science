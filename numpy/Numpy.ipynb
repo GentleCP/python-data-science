{
 "cells": [
  {
   "cell_type": "markdown",
   "metadata": {},
   "source": [
    "# Numpy "
   ]
  },
  {
   "cell_type": "markdown",
   "metadata": {},
   "source": [
    "## 创建数组"
   ]
  },
  {
   "cell_type": "code",
   "execution_count": 46,
   "metadata": {},
   "outputs": [
    {
     "name": "stdout",
     "output_type": "stream",
     "text": [
      "a的shape:(3,)\n",
      "b的shape:(3, 3)\n",
      "a的数据类型:int64\n",
      "b:[[ 1  2  3]\n",
      " [ 4  5 10]\n",
      " [ 7  8  9]]\n"
     ]
    }
   ],
   "source": [
    "import numpy as np\n",
    "a = np.array([1, 2, 3])\n",
    "b = np.array([[1, 2, 3], [4, 5, 6], [7, 8, 9]])\n",
    "b[1,2]=10\n",
    "print('a的shape:{}'.format(a.shape))\n",
    "print('b的shape:{}'.format(b.shape))\n",
    "print('a的数据类型:{}'.format(a.dtype))\n",
    "print('b:{}'.format(b))"
   ]
  },
  {
   "cell_type": "markdown",
   "metadata": {},
   "source": [
    "## 结构数组"
   ]
  },
  {
   "cell_type": "code",
   "execution_count": 45,
   "metadata": {},
   "outputs": [
    {
     "name": "stdout",
     "output_type": "stream",
     "text": [
      "取所有ages的平均:56.333333333333336\n",
      "取所有chinese的平均:42.333333333333336\n",
      "取所有math的平均:64.0\n",
      "取所有english的平均:88.66666412353516\n"
     ]
    }
   ],
   "source": [
    "import numpy as np\n",
    "person_type = np.dtype({\n",
    "    'names':['name', 'age', 'Chinese', 'Math', 'English'],\n",
    "    'formats':['S32','i', 'i', 'i', 'f']})  # 数据类型\n",
    "\"\"\"\n",
    "  |name|age|Chinese|Math|English\n",
    "0 |    |   |       |    |       \n",
    "1 |    |...\n",
    "\"\"\"\n",
    "peoples = np.array([(\"ZhangSan\",78,23,19, 80.5),(\"LiSi\",25,88,91,87),\n",
    "       (\"WangWu\",66,16,82,98.5)],\n",
    "    dtype=person_type)\n",
    "ages = peoples[:]['age']\n",
    "chineses = peoples[:]['Chinese']\n",
    "maths = peoples[:]['Math']\n",
    "englishs = peoples[:]['English']\n",
    "print('取所有ages的平均:{}'.format(np.mean(ages)))\n",
    "print('取所有chinese的平均:{}'.format(np.mean(chineses)))\n",
    "print('取所有math的平均:{}'.format(np.mean(maths)))\n",
    "print('取所有english的平均:{}'.format(np.mean(englishs)))"
   ]
  },
  {
   "cell_type": "markdown",
   "metadata": {},
   "source": [
    "## 连续数组"
   ]
  },
  {
   "cell_type": "code",
   "execution_count": 44,
   "metadata": {},
   "outputs": [
    {
     "name": "stdout",
     "output_type": "stream",
     "text": [
      "arange:[1 3 5 7 9]\n",
      "linspace:[ 1.    3.25  5.5   7.75 10.  ]\n"
     ]
    }
   ],
   "source": [
    "import numpy as np\n",
    "\n",
    "x1 = np.arange(1,10,2)\n",
    "x2 = np.linspace(1,10,5)\n",
    "print('arange:{}'.format(x1))\n",
    "print('linspace:{}'.format(x2))"
   ]
  },
  {
   "cell_type": "markdown",
   "metadata": {},
   "source": [
    "## 算术运算"
   ]
  },
  {
   "cell_type": "code",
   "execution_count": 42,
   "metadata": {},
   "outputs": [
    {
     "name": "stdout",
     "output_type": "stream",
     "text": [
      "加法:[ 2.    6.25 10.5  14.75 19.  ]\n",
      "[ 2.    6.25 10.5  14.75 19.  ]\n",
      "减法:[ 0.   -0.25 -0.5  -0.75 -1.  ]\n",
      "[ 0.   -0.25 -0.5  -0.75 -1.  ]\n",
      "乘法:[ 1.    9.75 27.5  54.25 90.  ]\n",
      "[ 1.    9.75 27.5  54.25 90.  ]\n",
      "除法:[1.         0.92307692 0.90909091 0.90322581 0.9       ]\n",
      "[1.         0.92307692 0.90909091 0.90322581 0.9       ]\n",
      "乘方:[1.00000000e+00 3.55339983e+01 6.98771243e+03 3.54413136e+06\n",
      " 3.48678440e+09]\n",
      "[1.00000000e+00 3.55339983e+01 6.98771243e+03 3.54413136e+06\n",
      " 3.48678440e+09]\n",
      "模:[0. 3. 5. 7. 9.]\n",
      "[0. 3. 5. 7. 9.]\n",
      "点乘:182.5\n",
      "182.5\n"
     ]
    }
   ],
   "source": [
    "import numpy as np\n",
    "\n",
    "x1 = np.arange(1,10,2)\n",
    "x2 = np.linspace(1,10,5)\n",
    "# 加运算，各个元素对应相加,同x1+x2\n",
    "print('加法:{}'.format(np.add(x1,x2)))\n",
    "print(x1+x2)\n",
    "# 减运算，各个元素对应相减,同x1-x2\n",
    "print('减法:{}'.format(np.subtract(x1,x2)))\n",
    "print(x1-x2)\n",
    "# 乘运算，各个元素对应相乘，同x1*x2\n",
    "print('乘法:{}'.format(np.multiply(x1,x2)))\n",
    "print(x1*x2)\n",
    "# 除运算，各个元素对应相除，同x1/x2\n",
    "print('除法:{}'.format(np.divide(x1,x2)))\n",
    "print(x1/x2)\n",
    "# 乘方运算，前者元素为底，后者元素为幂，同x1**x2\n",
    "print('乘方:{}'.format(np.power(x1,x2)))\n",
    "print(x1**x2)\n",
    "# 取余运算，各个元素对应取余，同x1%x2\n",
    "print('模:{}'.format(np.mod(x1,x2)))  # 也可以用np.remainder\n",
    "print(x1%x2)\n",
    "# 点乘运算，矩阵乘法，同x1.dot(x2)\n",
    "print('点乘:{}'.format(np.dot(x1,x2)))\n",
    "print(x1.dot(x2))"
   ]
  },
  {
   "cell_type": "markdown",
   "metadata": {},
   "source": [
    "## 统计函数"
   ]
  },
  {
   "cell_type": "markdown",
   "metadata": {},
   "source": [
    "### 最大最小值"
   ]
  },
  {
   "cell_type": "code",
   "execution_count": 38,
   "metadata": {},
   "outputs": [
    {
     "name": "stdout",
     "output_type": "stream",
     "text": [
      "数组的最大值:9\n",
      "数组的最小值:1\n",
      "纵向最大值:[7 8 9]\n",
      "横向最大值:[3 6 9]\n"
     ]
    }
   ],
   "source": [
    "import numpy as np\n",
    "\n",
    "a = np.array([[1,2,3],[4,5,6],[7,8,9]])\n",
    "# 数组的最大值\n",
    "print('数组的最大值:{}'.format(np.amax(a)))\n",
    "# 数组的最小值\n",
    "print('数组的最小值:{}'.format(np.amin(a)))\n",
    "# axies=0代表纵向，将数组划分为[1,4,7],[2,5,8],[3,6,9]\n",
    "print('纵向最大值:{}'.format(np.amax(a,0)))\n",
    "# axies=1代表横向，将数组划分为[1,2,3],[4,5,6],[7,8,9]\n",
    "print('横向最大值:{}'.format(np.amax(a,1)))"
   ]
  },
  {
   "cell_type": "markdown",
   "metadata": {},
   "source": [
    "### 最大最小值之差"
   ]
  },
  {
   "cell_type": "code",
   "execution_count": 37,
   "metadata": {},
   "outputs": [
    {
     "name": "stdout",
     "output_type": "stream",
     "text": [
      "数组的最大最小值之差:8\n",
      "纵向最大最小值之差:[6 6 6]\n",
      "横向最大最小值之差:[2 2 2]\n"
     ]
    }
   ],
   "source": [
    "import numpy as np\n",
    "\n",
    "a = np.array([[1,2,3], [4,5,6], [7,8,9]])\n",
    "# 数组的最大最小值之差\n",
    "print('数组的最大最小值之差:{}'.format(np.ptp(a)))\n",
    "# 纵向最大最小值之差\n",
    "print('纵向最大最小值之差:{}'.format(np.ptp(a,0)))\n",
    "# 横向最大最小值之差\n",
    "print('横向最大最小值之差:{}'.format(np.ptp(a,1)))"
   ]
  },
  {
   "cell_type": "markdown",
   "metadata": {},
   "source": [
    "### 百分位数"
   ]
  },
  {
   "cell_type": "code",
   "execution_count": 34,
   "metadata": {},
   "outputs": [
    {
     "name": "stdout",
     "output_type": "stream",
     "text": [
      "整个数组中排60%的值:5.8\n",
      "在横向排60%的值:[2.2 5.2 8.2]\n",
      "在纵向排60%的值:[4.6 5.6 6.6]\n"
     ]
    }
   ],
   "source": [
    "import numpy as np\n",
    "\n",
    "a = np.array([[1,2,3], [4,5,6], [7,8,9]])\n",
    "# 在整个数组中排60%的值\n",
    "print('整个数组中排60%的值:{}'.format(np.percentile(a,60)))\n",
    "# 在横向排60%的值\n",
    "print('在横向排60%的值:{}'.format(np.percentile(a,60,axis=1)))\n",
    "# 在纵向排60%的值\n",
    "print('在纵向排60%的值:{}'.format(np.percentile(a,60,axis=0)))"
   ]
  },
  {
   "cell_type": "markdown",
   "metadata": {},
   "source": [
    "### 中位数、平均数"
   ]
  },
  {
   "cell_type": "code",
   "execution_count": 33,
   "metadata": {},
   "outputs": [
    {
     "name": "stdout",
     "output_type": "stream",
     "text": [
      "整个数组的中位数:5.0\n",
      "纵向中位数:[4. 5. 6.]\n",
      "横向中位数:[2. 5. 8.]\n",
      "整个数组的平均数:5.0\n",
      "纵向平均数:[4. 5. 6.]\n",
      "向平均数:[2. 5. 8.]\n"
     ]
    }
   ],
   "source": [
    "import numpy as np\n",
    "\n",
    "a = np.array([[1,2,3], [4,5,6], [7,8,9]])\n",
    "# 整个数组的中位数\n",
    "print('整个数组的中位数:{}'.format(np.median(a)))\n",
    "# 纵向中位数\n",
    "print('纵向中位数:{}'.format(np.median(a,0)))\n",
    "# 横向中位数\n",
    "print('横向中位数:{}'.format(np.median(a,1)))\n",
    "# 整个数组的平均数\n",
    "print('整个数组的平均数:{}'.format(np.mean(a)))\n",
    "# 纵向平均数\n",
    "print('纵向平均数:{}'.format(np.mean(a,0)))\n",
    "# 横向平均数\n",
    "print('向平均数:{}'.format(np.mean(a,1)))"
   ]
  },
  {
   "cell_type": "markdown",
   "metadata": {},
   "source": [
    "### 加权平均值"
   ]
  },
  {
   "cell_type": "code",
   "execution_count": 32,
   "metadata": {},
   "outputs": [
    {
     "name": "stdout",
     "output_type": "stream",
     "text": [
      "默认权重为1:2.0\n",
      "按权重求平均:2.3\n"
     ]
    }
   ],
   "source": [
    "import numpy as np\n",
    "\n",
    "a = np.array([1,2,3])\n",
    "weights = np.array([2,3,5]) # 按2:3:5权重划分\n",
    "# 默认权重为1\n",
    "print('默认权重为1:{}'.format(np.average(a)))\n",
    "# 按权重求平均\n",
    "print('按权重求平均:{}'.format(np.average(a,weights=weights)))"
   ]
  },
  {
   "cell_type": "markdown",
   "metadata": {},
   "source": [
    "### 标准差、方差"
   ]
  },
  {
   "cell_type": "code",
   "execution_count": 31,
   "metadata": {},
   "outputs": [
    {
     "name": "stdout",
     "output_type": "stream",
     "text": [
      "标准差:0.816496580927726\n",
      "方差:0.6666666666666666\n"
     ]
    }
   ],
   "source": [
    "import numpy as np\n",
    "\n",
    "a = np.array([1,2,3])\n",
    "# 标准差\n",
    "print('标准差:{}'.format(np.std(a)))\n",
    "# 方差\n",
    "print('方差:{}'.format(np.var(a)))"
   ]
  },
  {
   "cell_type": "markdown",
   "metadata": {},
   "source": [
    "## 排序"
   ]
  },
  {
   "cell_type": "code",
   "execution_count": 30,
   "metadata": {},
   "outputs": [
    {
     "name": "stdout",
     "output_type": "stream",
     "text": [
      "以最后一个轴排序：[[3 5 9]\n",
      " [1 2 7]]\n",
      "将数组看作向量整体排序：[1 2 3 5 7 9]\n",
      "按纵轴排序：[[2 5 1]\n",
      " [9 7 3]]\n",
      "按横轴排序：[[3 5 9]\n",
      " [1 2 7]]\n",
      "指定归并排序：[1 2 3 5 7 9]\n",
      "按名字排序：[(b'LiSi', 25, 88, 91, 87. ) (b'WangWu', 66, 16, 82, 98.5)\n",
      " (b'ZhangSan', 78, 23, 19, 80.5)]\n",
      "先按语文成绩，再按数学成绩排序:[(b'WangWu', 66, 16, 82, 98.5) (b'ZhangSan', 78, 23, 19, 80.5)\n",
      " (b'LiSi', 25, 88, 91, 87. )]\n"
     ]
    }
   ],
   "source": [
    "import numpy as np\n",
    "\n",
    "a = np.array([[9,5,3],[2,7,1]])\n",
    "# 默认axis为-1，以最后一个轴排序\n",
    "print('以最后一个轴排序：{}'.format(np.sort(a)))\n",
    "# None表示将数组看作向量整体排序\n",
    "print('将数组看作向量整体排序：{}'.format(np.sort(a, axis=None)))\n",
    "# 按纵轴排序\n",
    "print('按纵轴排序：{}'.format(np.sort(a, axis=0)))\n",
    "# 按横轴排序\n",
    "print('按横轴排序：{}'.format(np.sort(a, axis=1)))\n",
    "# 指定排序方法\n",
    "print('指定归并排序：{}'.format(np.sort(a,kind='mergesort',axis=None)))\n",
    "\n",
    "# 指定排序基准order\n",
    "person_type = np.dtype({\n",
    "    'names':['name', 'age', 'Chinese', 'Math', 'English'],\n",
    "    'formats':['S32','i', 'i', 'i', 'f']})  # 数据类型\n",
    "\"\"\"\n",
    "  |name|age|Chinese|Math|English\n",
    "0 |    |   |       |    |       \n",
    "1 |    |...\n",
    "\"\"\"\n",
    "peoples = np.array([(\"ZhangSan\",78,23,19, 80.5),(\"LiSi\",25,88,91,87),\n",
    "       (\"WangWu\",66,16,82,98.5)],\n",
    "    dtype=person_type)\n",
    "# 按名字排序\n",
    "print('按名字排序：{}'.format(np.sort(peoples,order='name')))\n",
    "# 先按语文成绩，再按数学成绩排序\n",
    "print('先按语文成绩，再按数学成绩排序:{}'.format(np.sort(peoples,order=['Chinese','Math'])))"
   ]
  },
  {
   "cell_type": "markdown",
   "metadata": {},
   "source": [
    "## 用例"
   ]
  },
  {
   "cell_type": "markdown",
   "metadata": {},
   "source": [
    "问：以下为一个班级学生姓名与对应科目成绩统计表，用Numpy统计这些人语文、数学、英语的平均成绩，最小、最大成绩，方差、标准差。最后将其总成绩排序按名次输出（总成绩为加权平均成绩，权重为3:5:4）"
   ]
  },
  {
   "cell_type": "markdown",
   "metadata": {},
   "source": [
    "姓名 | 语文 | 数学 | 英语\n",
    ":---:|:---:|:---:|:---:\n",
    "张三 | 90 | 89 | 67\n",
    "李四 | 88 | 82 | 88\n",
    "王五 | 77 | 99 | 80\n",
    "小C  | 95 | 77 | 96\n",
    "小P  | 98 | 82 | 90"
   ]
  },
  {
   "cell_type": "code",
   "execution_count": 79,
   "metadata": {},
   "outputs": [
    {
     "name": "stdout",
     "output_type": "stream",
     "text": [
      "[(b'ZhangSan', 90, 89, 67) (b'LiSi', 88, 82, 88) (b'WangWu', 77, 99, 80)\n",
      " (b'littleC', 95, 77, 96) (b'littleP', 98, 82, 90)]\n",
      "语文平均成绩:89.6\n",
      "数学平均成绩:85.8\n",
      "英语平均成绩:84.2\n",
      "语文最大:98,最小成绩:77\n",
      "语文方差:52.239999999999995,标准差:7.227724399837061\n",
      "littleP 88.66666666666667\n",
      "littleC 87.83333333333333\n",
      "WangWu 87.16666666666667\n",
      "LiSi 85.5\n",
      "ZhangSan 81.91666666666667\n"
     ]
    }
   ],
   "source": [
    "import numpy as np\n",
    "\n",
    "stu_type = np.dtype({\n",
    "    'names':['name','Chinese','Math','English'],\n",
    "    'formats':['S32','i','i','i'],\n",
    "})\n",
    "data = [\n",
    "    ('ZhangSan',90,89,67),\n",
    "    ('LiSi',88,82,88),\n",
    "    ('WangWu',77,99,80),\n",
    "    ('littleC',95,77,96),\n",
    "    ('littleP',98,82,90),\n",
    "]\n",
    "wts = [3,5,4]\n",
    "grades_list = np.array(data,dtype=stu_type)\n",
    "print(grades_list)\n",
    "print('语文平均成绩:{}'.format(np.mean(grades_list[:]['Chinese'])))\n",
    "print('数学平均成绩:{}'.format(np.mean(grades_list[:]['Math'])))\n",
    "print('英语平均成绩:{}'.format(np.mean(grades_list[:]['English'])))\n",
    "print('语文最大:{max},最小成绩:{min}'.format(max=np.amax(grades_list[:]['Chinese']),\n",
    "                                     min=np.amin(grades_list[:]['Chinese'])))\n",
    "print('语文方差:{var},标准差:{std}'.format(var=np.var(grades_list[:]['Chinese']),std=np.std(grades_list[:]['Chinese'])))\n",
    "stus = grades_list[0:5][:]\n",
    "grades = {}\n",
    "for i in range(5):\n",
    "    grade = np.average(np.array(list(stus[i])[1:4]),weights=wts)\n",
    "    grades[data[i][0]] = grade\n",
    "for k in sorted(grades,key=grades.__getitem__,reverse=True):\n",
    "    print(k,grades[k])\n"
   ]
  },
  {
   "cell_type": "code",
   "execution_count": null,
   "metadata": {},
   "outputs": [],
   "source": []
  }
 ],
 "metadata": {
  "kernelspec": {
   "display_name": "Python 3",
   "language": "python",
   "name": "python3"
  },
  "language_info": {
   "codemirror_mode": {
    "name": "ipython",
    "version": 3
   },
   "file_extension": ".py",
   "mimetype": "text/x-python",
   "name": "python",
   "nbconvert_exporter": "python",
   "pygments_lexer": "ipython3",
   "version": "3.7.3"
  }
 },
 "nbformat": 4,
 "nbformat_minor": 2
}
